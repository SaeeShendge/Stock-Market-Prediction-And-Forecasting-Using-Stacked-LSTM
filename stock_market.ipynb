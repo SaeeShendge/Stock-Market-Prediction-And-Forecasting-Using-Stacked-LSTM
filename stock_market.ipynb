{
  "nbformat": 4,
  "nbformat_minor": 0,
  "metadata": {
    "colab": {
      "name": "Untitled0.ipynb",
      "provenance": []
    },
    "kernelspec": {
      "name": "python3",
      "display_name": "Python 3"
    },
    "language_info": {
      "name": "python"
    }
  },
  "cells": [
    {
      "cell_type": "code",
      "source": [
        "Stock Market Prediction And Forecasting Using Stacked LSTM\n",
        "Datasetlinks: https://raw.githubusercontent.com/mwitiderrick/stockprice/master/NSE-TATAGLOBAL.csv\n",
        "Referance: https://youtu.be/Vfx1L2jh2Ng\n",
        "\n",
        "\n",
        "SAEE SANDIP SHENDGE"
      ],
      "metadata": {
        "id": "__uqJTX1Cbu8"
      },
      "execution_count": 20,
      "outputs": []
    },
    {
      "cell_type": "markdown",
      "source": [
        ""
      ],
      "metadata": {
        "id": "IIQjAoNwC1TS"
      }
    },
    {
      "cell_type": "code",
      "execution_count": 1,
      "metadata": {
        "id": "F2VHuSgh9UwA"
      },
      "outputs": [],
      "source": [
        "import numpy as np\n",
        "import pandas as pd\n",
        "import math\n",
        "import matplotlib.pyplot as plt\n",
        "from sklearn.preprocessing import MinMaxScaler\n",
        "from sklearn.metrics import mean_squared_error\n",
        "import tensorflow as tf\n",
        "from tensorflow.python.keras.models import Sequential\n",
        "from tensorflow.python.keras.layers import Dense\n",
        "from tensorflow.python.keras.layers import LSTM"
      ]
    },
    {
      "cell_type": "code",
      "source": [
        "df = pd.read_csv('https://raw.githubusercontent.com/mwitiderrick/stockprice/master/NSE-TATAGLOBAL.csv')\n",
        "print(df)"
      ],
      "metadata": {
        "colab": {
          "base_uri": "https://localhost:8080/"
        },
        "id": "razItR6I9a0e",
        "outputId": "38f9ff89-41b4-4638-d441-c6e49dd88633"
      },
      "execution_count": 2,
      "outputs": [
        {
          "output_type": "stream",
          "name": "stdout",
          "text": [
            "            Date    Open    High  ...   Close  Total Trade Quantity  Turnover (Lacs)\n",
            "0     2018-09-28  234.05  235.95  ...  233.75               3069914          7162.35\n",
            "1     2018-09-27  234.55  236.80  ...  233.25               5082859         11859.95\n",
            "2     2018-09-26  240.00  240.00  ...  234.25               2240909          5248.60\n",
            "3     2018-09-25  233.30  236.75  ...  236.10               2349368          5503.90\n",
            "4     2018-09-24  233.55  239.20  ...  233.30               3423509          7999.55\n",
            "...          ...     ...     ...  ...     ...                   ...              ...\n",
            "2030  2010-07-27  117.60  119.50  ...  118.65                586100           694.98\n",
            "2031  2010-07-26  120.10  121.00  ...  117.60                658440           780.01\n",
            "2032  2010-07-23  121.80  121.95  ...  120.65                281312           340.31\n",
            "2033  2010-07-22  120.30  122.00  ...  120.90                293312           355.17\n",
            "2034  2010-07-21  122.10  123.00  ...  121.55                658666           803.56\n",
            "\n",
            "[2035 rows x 8 columns]\n"
          ]
        }
      ]
    },
    {
      "cell_type": "code",
      "source": [
        "df = df.dropna()\n",
        "df.head()"
      ],
      "metadata": {
        "colab": {
          "base_uri": "https://localhost:8080/",
          "height": 206
        },
        "id": "RRmAx4qC9hCL",
        "outputId": "2edc3c0f-da9e-4e7b-a9b9-a5c77b8bfa01"
      },
      "execution_count": 3,
      "outputs": [
        {
          "output_type": "execute_result",
          "data": {
            "text/html": [
              "\n",
              "  <div id=\"df-48824221-f35e-4dfc-a450-ead56dd498bd\">\n",
              "    <div class=\"colab-df-container\">\n",
              "      <div>\n",
              "<style scoped>\n",
              "    .dataframe tbody tr th:only-of-type {\n",
              "        vertical-align: middle;\n",
              "    }\n",
              "\n",
              "    .dataframe tbody tr th {\n",
              "        vertical-align: top;\n",
              "    }\n",
              "\n",
              "    .dataframe thead th {\n",
              "        text-align: right;\n",
              "    }\n",
              "</style>\n",
              "<table border=\"1\" class=\"dataframe\">\n",
              "  <thead>\n",
              "    <tr style=\"text-align: right;\">\n",
              "      <th></th>\n",
              "      <th>Date</th>\n",
              "      <th>Open</th>\n",
              "      <th>High</th>\n",
              "      <th>Low</th>\n",
              "      <th>Last</th>\n",
              "      <th>Close</th>\n",
              "      <th>Total Trade Quantity</th>\n",
              "      <th>Turnover (Lacs)</th>\n",
              "    </tr>\n",
              "  </thead>\n",
              "  <tbody>\n",
              "    <tr>\n",
              "      <th>0</th>\n",
              "      <td>2018-09-28</td>\n",
              "      <td>234.05</td>\n",
              "      <td>235.95</td>\n",
              "      <td>230.20</td>\n",
              "      <td>233.50</td>\n",
              "      <td>233.75</td>\n",
              "      <td>3069914</td>\n",
              "      <td>7162.35</td>\n",
              "    </tr>\n",
              "    <tr>\n",
              "      <th>1</th>\n",
              "      <td>2018-09-27</td>\n",
              "      <td>234.55</td>\n",
              "      <td>236.80</td>\n",
              "      <td>231.10</td>\n",
              "      <td>233.80</td>\n",
              "      <td>233.25</td>\n",
              "      <td>5082859</td>\n",
              "      <td>11859.95</td>\n",
              "    </tr>\n",
              "    <tr>\n",
              "      <th>2</th>\n",
              "      <td>2018-09-26</td>\n",
              "      <td>240.00</td>\n",
              "      <td>240.00</td>\n",
              "      <td>232.50</td>\n",
              "      <td>235.00</td>\n",
              "      <td>234.25</td>\n",
              "      <td>2240909</td>\n",
              "      <td>5248.60</td>\n",
              "    </tr>\n",
              "    <tr>\n",
              "      <th>3</th>\n",
              "      <td>2018-09-25</td>\n",
              "      <td>233.30</td>\n",
              "      <td>236.75</td>\n",
              "      <td>232.00</td>\n",
              "      <td>236.25</td>\n",
              "      <td>236.10</td>\n",
              "      <td>2349368</td>\n",
              "      <td>5503.90</td>\n",
              "    </tr>\n",
              "    <tr>\n",
              "      <th>4</th>\n",
              "      <td>2018-09-24</td>\n",
              "      <td>233.55</td>\n",
              "      <td>239.20</td>\n",
              "      <td>230.75</td>\n",
              "      <td>234.00</td>\n",
              "      <td>233.30</td>\n",
              "      <td>3423509</td>\n",
              "      <td>7999.55</td>\n",
              "    </tr>\n",
              "  </tbody>\n",
              "</table>\n",
              "</div>\n",
              "      <button class=\"colab-df-convert\" onclick=\"convertToInteractive('df-48824221-f35e-4dfc-a450-ead56dd498bd')\"\n",
              "              title=\"Convert this dataframe to an interactive table.\"\n",
              "              style=\"display:none;\">\n",
              "        \n",
              "  <svg xmlns=\"http://www.w3.org/2000/svg\" height=\"24px\"viewBox=\"0 0 24 24\"\n",
              "       width=\"24px\">\n",
              "    <path d=\"M0 0h24v24H0V0z\" fill=\"none\"/>\n",
              "    <path d=\"M18.56 5.44l.94 2.06.94-2.06 2.06-.94-2.06-.94-.94-2.06-.94 2.06-2.06.94zm-11 1L8.5 8.5l.94-2.06 2.06-.94-2.06-.94L8.5 2.5l-.94 2.06-2.06.94zm10 10l.94 2.06.94-2.06 2.06-.94-2.06-.94-.94-2.06-.94 2.06-2.06.94z\"/><path d=\"M17.41 7.96l-1.37-1.37c-.4-.4-.92-.59-1.43-.59-.52 0-1.04.2-1.43.59L10.3 9.45l-7.72 7.72c-.78.78-.78 2.05 0 2.83L4 21.41c.39.39.9.59 1.41.59.51 0 1.02-.2 1.41-.59l7.78-7.78 2.81-2.81c.8-.78.8-2.07 0-2.86zM5.41 20L4 18.59l7.72-7.72 1.47 1.35L5.41 20z\"/>\n",
              "  </svg>\n",
              "      </button>\n",
              "      \n",
              "  <style>\n",
              "    .colab-df-container {\n",
              "      display:flex;\n",
              "      flex-wrap:wrap;\n",
              "      gap: 12px;\n",
              "    }\n",
              "\n",
              "    .colab-df-convert {\n",
              "      background-color: #E8F0FE;\n",
              "      border: none;\n",
              "      border-radius: 50%;\n",
              "      cursor: pointer;\n",
              "      display: none;\n",
              "      fill: #1967D2;\n",
              "      height: 32px;\n",
              "      padding: 0 0 0 0;\n",
              "      width: 32px;\n",
              "    }\n",
              "\n",
              "    .colab-df-convert:hover {\n",
              "      background-color: #E2EBFA;\n",
              "      box-shadow: 0px 1px 2px rgba(60, 64, 67, 0.3), 0px 1px 3px 1px rgba(60, 64, 67, 0.15);\n",
              "      fill: #174EA6;\n",
              "    }\n",
              "\n",
              "    [theme=dark] .colab-df-convert {\n",
              "      background-color: #3B4455;\n",
              "      fill: #D2E3FC;\n",
              "    }\n",
              "\n",
              "    [theme=dark] .colab-df-convert:hover {\n",
              "      background-color: #434B5C;\n",
              "      box-shadow: 0px 1px 3px 1px rgba(0, 0, 0, 0.15);\n",
              "      filter: drop-shadow(0px 1px 2px rgba(0, 0, 0, 0.3));\n",
              "      fill: #FFFFFF;\n",
              "    }\n",
              "  </style>\n",
              "\n",
              "      <script>\n",
              "        const buttonEl =\n",
              "          document.querySelector('#df-48824221-f35e-4dfc-a450-ead56dd498bd button.colab-df-convert');\n",
              "        buttonEl.style.display =\n",
              "          google.colab.kernel.accessAllowed ? 'block' : 'none';\n",
              "\n",
              "        async function convertToInteractive(key) {\n",
              "          const element = document.querySelector('#df-48824221-f35e-4dfc-a450-ead56dd498bd');\n",
              "          const dataTable =\n",
              "            await google.colab.kernel.invokeFunction('convertToInteractive',\n",
              "                                                     [key], {});\n",
              "          if (!dataTable) return;\n",
              "\n",
              "          const docLinkHtml = 'Like what you see? Visit the ' +\n",
              "            '<a target=\"_blank\" href=https://colab.research.google.com/notebooks/data_table.ipynb>data table notebook</a>'\n",
              "            + ' to learn more about interactive tables.';\n",
              "          element.innerHTML = '';\n",
              "          dataTable['output_type'] = 'display_data';\n",
              "          await google.colab.output.renderOutput(dataTable, element);\n",
              "          const docLink = document.createElement('div');\n",
              "          docLink.innerHTML = docLinkHtml;\n",
              "          element.appendChild(docLink);\n",
              "        }\n",
              "      </script>\n",
              "    </div>\n",
              "  </div>\n",
              "  "
            ],
            "text/plain": [
              "         Date    Open    High  ...   Close  Total Trade Quantity  Turnover (Lacs)\n",
              "0  2018-09-28  234.05  235.95  ...  233.75               3069914          7162.35\n",
              "1  2018-09-27  234.55  236.80  ...  233.25               5082859         11859.95\n",
              "2  2018-09-26  240.00  240.00  ...  234.25               2240909          5248.60\n",
              "3  2018-09-25  233.30  236.75  ...  236.10               2349368          5503.90\n",
              "4  2018-09-24  233.55  239.20  ...  233.30               3423509          7999.55\n",
              "\n",
              "[5 rows x 8 columns]"
            ]
          },
          "metadata": {},
          "execution_count": 3
        }
      ]
    },
    {
      "cell_type": "code",
      "source": [
        "df.tail()"
      ],
      "metadata": {
        "colab": {
          "base_uri": "https://localhost:8080/",
          "height": 206
        },
        "id": "k-N8hDxk9l9K",
        "outputId": "3930494f-7f2c-4c19-ac68-722e5786ce67"
      },
      "execution_count": 4,
      "outputs": [
        {
          "output_type": "execute_result",
          "data": {
            "text/html": [
              "\n",
              "  <div id=\"df-241a2303-26f9-4655-b852-ddefbd8a0db3\">\n",
              "    <div class=\"colab-df-container\">\n",
              "      <div>\n",
              "<style scoped>\n",
              "    .dataframe tbody tr th:only-of-type {\n",
              "        vertical-align: middle;\n",
              "    }\n",
              "\n",
              "    .dataframe tbody tr th {\n",
              "        vertical-align: top;\n",
              "    }\n",
              "\n",
              "    .dataframe thead th {\n",
              "        text-align: right;\n",
              "    }\n",
              "</style>\n",
              "<table border=\"1\" class=\"dataframe\">\n",
              "  <thead>\n",
              "    <tr style=\"text-align: right;\">\n",
              "      <th></th>\n",
              "      <th>Date</th>\n",
              "      <th>Open</th>\n",
              "      <th>High</th>\n",
              "      <th>Low</th>\n",
              "      <th>Last</th>\n",
              "      <th>Close</th>\n",
              "      <th>Total Trade Quantity</th>\n",
              "      <th>Turnover (Lacs)</th>\n",
              "    </tr>\n",
              "  </thead>\n",
              "  <tbody>\n",
              "    <tr>\n",
              "      <th>2030</th>\n",
              "      <td>2010-07-27</td>\n",
              "      <td>117.6</td>\n",
              "      <td>119.50</td>\n",
              "      <td>112.00</td>\n",
              "      <td>118.80</td>\n",
              "      <td>118.65</td>\n",
              "      <td>586100</td>\n",
              "      <td>694.98</td>\n",
              "    </tr>\n",
              "    <tr>\n",
              "      <th>2031</th>\n",
              "      <td>2010-07-26</td>\n",
              "      <td>120.1</td>\n",
              "      <td>121.00</td>\n",
              "      <td>117.10</td>\n",
              "      <td>117.10</td>\n",
              "      <td>117.60</td>\n",
              "      <td>658440</td>\n",
              "      <td>780.01</td>\n",
              "    </tr>\n",
              "    <tr>\n",
              "      <th>2032</th>\n",
              "      <td>2010-07-23</td>\n",
              "      <td>121.8</td>\n",
              "      <td>121.95</td>\n",
              "      <td>120.25</td>\n",
              "      <td>120.35</td>\n",
              "      <td>120.65</td>\n",
              "      <td>281312</td>\n",
              "      <td>340.31</td>\n",
              "    </tr>\n",
              "    <tr>\n",
              "      <th>2033</th>\n",
              "      <td>2010-07-22</td>\n",
              "      <td>120.3</td>\n",
              "      <td>122.00</td>\n",
              "      <td>120.25</td>\n",
              "      <td>120.75</td>\n",
              "      <td>120.90</td>\n",
              "      <td>293312</td>\n",
              "      <td>355.17</td>\n",
              "    </tr>\n",
              "    <tr>\n",
              "      <th>2034</th>\n",
              "      <td>2010-07-21</td>\n",
              "      <td>122.1</td>\n",
              "      <td>123.00</td>\n",
              "      <td>121.05</td>\n",
              "      <td>121.10</td>\n",
              "      <td>121.55</td>\n",
              "      <td>658666</td>\n",
              "      <td>803.56</td>\n",
              "    </tr>\n",
              "  </tbody>\n",
              "</table>\n",
              "</div>\n",
              "      <button class=\"colab-df-convert\" onclick=\"convertToInteractive('df-241a2303-26f9-4655-b852-ddefbd8a0db3')\"\n",
              "              title=\"Convert this dataframe to an interactive table.\"\n",
              "              style=\"display:none;\">\n",
              "        \n",
              "  <svg xmlns=\"http://www.w3.org/2000/svg\" height=\"24px\"viewBox=\"0 0 24 24\"\n",
              "       width=\"24px\">\n",
              "    <path d=\"M0 0h24v24H0V0z\" fill=\"none\"/>\n",
              "    <path d=\"M18.56 5.44l.94 2.06.94-2.06 2.06-.94-2.06-.94-.94-2.06-.94 2.06-2.06.94zm-11 1L8.5 8.5l.94-2.06 2.06-.94-2.06-.94L8.5 2.5l-.94 2.06-2.06.94zm10 10l.94 2.06.94-2.06 2.06-.94-2.06-.94-.94-2.06-.94 2.06-2.06.94z\"/><path d=\"M17.41 7.96l-1.37-1.37c-.4-.4-.92-.59-1.43-.59-.52 0-1.04.2-1.43.59L10.3 9.45l-7.72 7.72c-.78.78-.78 2.05 0 2.83L4 21.41c.39.39.9.59 1.41.59.51 0 1.02-.2 1.41-.59l7.78-7.78 2.81-2.81c.8-.78.8-2.07 0-2.86zM5.41 20L4 18.59l7.72-7.72 1.47 1.35L5.41 20z\"/>\n",
              "  </svg>\n",
              "      </button>\n",
              "      \n",
              "  <style>\n",
              "    .colab-df-container {\n",
              "      display:flex;\n",
              "      flex-wrap:wrap;\n",
              "      gap: 12px;\n",
              "    }\n",
              "\n",
              "    .colab-df-convert {\n",
              "      background-color: #E8F0FE;\n",
              "      border: none;\n",
              "      border-radius: 50%;\n",
              "      cursor: pointer;\n",
              "      display: none;\n",
              "      fill: #1967D2;\n",
              "      height: 32px;\n",
              "      padding: 0 0 0 0;\n",
              "      width: 32px;\n",
              "    }\n",
              "\n",
              "    .colab-df-convert:hover {\n",
              "      background-color: #E2EBFA;\n",
              "      box-shadow: 0px 1px 2px rgba(60, 64, 67, 0.3), 0px 1px 3px 1px rgba(60, 64, 67, 0.15);\n",
              "      fill: #174EA6;\n",
              "    }\n",
              "\n",
              "    [theme=dark] .colab-df-convert {\n",
              "      background-color: #3B4455;\n",
              "      fill: #D2E3FC;\n",
              "    }\n",
              "\n",
              "    [theme=dark] .colab-df-convert:hover {\n",
              "      background-color: #434B5C;\n",
              "      box-shadow: 0px 1px 3px 1px rgba(0, 0, 0, 0.15);\n",
              "      filter: drop-shadow(0px 1px 2px rgba(0, 0, 0, 0.3));\n",
              "      fill: #FFFFFF;\n",
              "    }\n",
              "  </style>\n",
              "\n",
              "      <script>\n",
              "        const buttonEl =\n",
              "          document.querySelector('#df-241a2303-26f9-4655-b852-ddefbd8a0db3 button.colab-df-convert');\n",
              "        buttonEl.style.display =\n",
              "          google.colab.kernel.accessAllowed ? 'block' : 'none';\n",
              "\n",
              "        async function convertToInteractive(key) {\n",
              "          const element = document.querySelector('#df-241a2303-26f9-4655-b852-ddefbd8a0db3');\n",
              "          const dataTable =\n",
              "            await google.colab.kernel.invokeFunction('convertToInteractive',\n",
              "                                                     [key], {});\n",
              "          if (!dataTable) return;\n",
              "\n",
              "          const docLinkHtml = 'Like what you see? Visit the ' +\n",
              "            '<a target=\"_blank\" href=https://colab.research.google.com/notebooks/data_table.ipynb>data table notebook</a>'\n",
              "            + ' to learn more about interactive tables.';\n",
              "          element.innerHTML = '';\n",
              "          dataTable['output_type'] = 'display_data';\n",
              "          await google.colab.output.renderOutput(dataTable, element);\n",
              "          const docLink = document.createElement('div');\n",
              "          docLink.innerHTML = docLinkHtml;\n",
              "          element.appendChild(docLink);\n",
              "        }\n",
              "      </script>\n",
              "    </div>\n",
              "  </div>\n",
              "  "
            ],
            "text/plain": [
              "            Date   Open    High  ...   Close  Total Trade Quantity  Turnover (Lacs)\n",
              "2030  2010-07-27  117.6  119.50  ...  118.65                586100           694.98\n",
              "2031  2010-07-26  120.1  121.00  ...  117.60                658440           780.01\n",
              "2032  2010-07-23  121.8  121.95  ...  120.65                281312           340.31\n",
              "2033  2010-07-22  120.3  122.00  ...  120.90                293312           355.17\n",
              "2034  2010-07-21  122.1  123.00  ...  121.55                658666           803.56\n",
              "\n",
              "[5 rows x 8 columns]"
            ]
          },
          "metadata": {},
          "execution_count": 4
        }
      ]
    },
    {
      "cell_type": "code",
      "source": [
        "df.columns"
      ],
      "metadata": {
        "colab": {
          "base_uri": "https://localhost:8080/"
        },
        "id": "sARWwS-k9pfu",
        "outputId": "cf44e0ff-45c9-4f65-9ffc-72bff832a41d"
      },
      "execution_count": 5,
      "outputs": [
        {
          "output_type": "execute_result",
          "data": {
            "text/plain": [
              "Index(['Date', 'Open', 'High', 'Low', 'Last', 'Close', 'Total Trade Quantity',\n",
              "       'Turnover (Lacs)'],\n",
              "      dtype='object')"
            ]
          },
          "metadata": {},
          "execution_count": 5
        }
      ]
    },
    {
      "cell_type": "code",
      "source": [
        "df.info"
      ],
      "metadata": {
        "colab": {
          "base_uri": "https://localhost:8080/"
        },
        "id": "jp0lhxtn9sMC",
        "outputId": "6e748b00-f812-47ab-c8a7-eb4cb88101e4"
      },
      "execution_count": 6,
      "outputs": [
        {
          "output_type": "execute_result",
          "data": {
            "text/plain": [
              "<bound method DataFrame.info of             Date    Open    High  ...   Close  Total Trade Quantity  Turnover (Lacs)\n",
              "0     2018-09-28  234.05  235.95  ...  233.75               3069914          7162.35\n",
              "1     2018-09-27  234.55  236.80  ...  233.25               5082859         11859.95\n",
              "2     2018-09-26  240.00  240.00  ...  234.25               2240909          5248.60\n",
              "3     2018-09-25  233.30  236.75  ...  236.10               2349368          5503.90\n",
              "4     2018-09-24  233.55  239.20  ...  233.30               3423509          7999.55\n",
              "...          ...     ...     ...  ...     ...                   ...              ...\n",
              "2030  2010-07-27  117.60  119.50  ...  118.65                586100           694.98\n",
              "2031  2010-07-26  120.10  121.00  ...  117.60                658440           780.01\n",
              "2032  2010-07-23  121.80  121.95  ...  120.65                281312           340.31\n",
              "2033  2010-07-22  120.30  122.00  ...  120.90                293312           355.17\n",
              "2034  2010-07-21  122.10  123.00  ...  121.55                658666           803.56\n",
              "\n",
              "[2035 rows x 8 columns]>"
            ]
          },
          "metadata": {},
          "execution_count": 6
        }
      ]
    },
    {
      "cell_type": "code",
      "source": [
        "df.size"
      ],
      "metadata": {
        "colab": {
          "base_uri": "https://localhost:8080/"
        },
        "id": "Gb5_mlaS9uxQ",
        "outputId": "78cc1520-58fa-4926-ba50-20f559d7741c"
      },
      "execution_count": 7,
      "outputs": [
        {
          "output_type": "execute_result",
          "data": {
            "text/plain": [
              "16280"
            ]
          },
          "metadata": {},
          "execution_count": 7
        }
      ]
    },
    {
      "cell_type": "code",
      "source": [
        "df.shape"
      ],
      "metadata": {
        "colab": {
          "base_uri": "https://localhost:8080/"
        },
        "id": "lhZ31bGC9w0o",
        "outputId": "a8cf6ff5-eddb-4b7d-9139-6efda032fef1"
      },
      "execution_count": 8,
      "outputs": [
        {
          "output_type": "execute_result",
          "data": {
            "text/plain": [
              "(2035, 8)"
            ]
          },
          "metadata": {},
          "execution_count": 8
        }
      ]
    },
    {
      "cell_type": "code",
      "source": [
        "df.index"
      ],
      "metadata": {
        "colab": {
          "base_uri": "https://localhost:8080/"
        },
        "id": "o5EWOYfp9yfF",
        "outputId": "dd3412d3-7182-4591-893d-a174ca403583"
      },
      "execution_count": 9,
      "outputs": [
        {
          "output_type": "execute_result",
          "data": {
            "text/plain": [
              "Int64Index([   0,    1,    2,    3,    4,    5,    6,    7,    8,    9,\n",
              "            ...\n",
              "            2025, 2026, 2027, 2028, 2029, 2030, 2031, 2032, 2033, 2034],\n",
              "           dtype='int64', length=2035)"
            ]
          },
          "metadata": {},
          "execution_count": 9
        }
      ]
    },
    {
      "cell_type": "code",
      "source": [
        "df.describe"
      ],
      "metadata": {
        "colab": {
          "base_uri": "https://localhost:8080/"
        },
        "id": "HrhqMu-J90oj",
        "outputId": "51eb689e-386e-4e73-de87-3746a12c049c"
      },
      "execution_count": 10,
      "outputs": [
        {
          "output_type": "execute_result",
          "data": {
            "text/plain": [
              "<bound method NDFrame.describe of             Date    Open    High  ...   Close  Total Trade Quantity  Turnover (Lacs)\n",
              "0     2018-09-28  234.05  235.95  ...  233.75               3069914          7162.35\n",
              "1     2018-09-27  234.55  236.80  ...  233.25               5082859         11859.95\n",
              "2     2018-09-26  240.00  240.00  ...  234.25               2240909          5248.60\n",
              "3     2018-09-25  233.30  236.75  ...  236.10               2349368          5503.90\n",
              "4     2018-09-24  233.55  239.20  ...  233.30               3423509          7999.55\n",
              "...          ...     ...     ...  ...     ...                   ...              ...\n",
              "2030  2010-07-27  117.60  119.50  ...  118.65                586100           694.98\n",
              "2031  2010-07-26  120.10  121.00  ...  117.60                658440           780.01\n",
              "2032  2010-07-23  121.80  121.95  ...  120.65                281312           340.31\n",
              "2033  2010-07-22  120.30  122.00  ...  120.90                293312           355.17\n",
              "2034  2010-07-21  122.10  123.00  ...  121.55                658666           803.56\n",
              "\n",
              "[2035 rows x 8 columns]>"
            ]
          },
          "metadata": {},
          "execution_count": 10
        }
      ]
    },
    {
      "cell_type": "code",
      "source": [
        "df_close = df['Close']\n",
        "df_close.shape"
      ],
      "metadata": {
        "colab": {
          "base_uri": "https://localhost:8080/"
        },
        "id": "ClAl2DQS94ME",
        "outputId": "9ca8033c-7367-4ae3-834c-b2930faf9929"
      },
      "execution_count": 11,
      "outputs": [
        {
          "output_type": "execute_result",
          "data": {
            "text/plain": [
              "(2035,)"
            ]
          },
          "metadata": {},
          "execution_count": 11
        }
      ]
    },
    {
      "cell_type": "code",
      "source": [
        "df_close"
      ],
      "metadata": {
        "colab": {
          "base_uri": "https://localhost:8080/"
        },
        "id": "8izjSEKP97hC",
        "outputId": "fb18cb67-7495-4d8f-9c6a-9deaa676c409"
      },
      "execution_count": 12,
      "outputs": [
        {
          "output_type": "execute_result",
          "data": {
            "text/plain": [
              "0       233.75\n",
              "1       233.25\n",
              "2       234.25\n",
              "3       236.10\n",
              "4       233.30\n",
              "         ...  \n",
              "2030    118.65\n",
              "2031    117.60\n",
              "2032    120.65\n",
              "2033    120.90\n",
              "2034    121.55\n",
              "Name: Close, Length: 2035, dtype: float64"
            ]
          },
          "metadata": {},
          "execution_count": 12
        }
      ]
    },
    {
      "cell_type": "code",
      "source": [
        "plt.plot(df_close)"
      ],
      "metadata": {
        "colab": {
          "base_uri": "https://localhost:8080/",
          "height": 282
        },
        "id": "bQCdLJRX99xz",
        "outputId": "423f84b9-ce8f-4648-a2da-3e639de65e14"
      },
      "execution_count": 13,
      "outputs": [
        {
          "output_type": "execute_result",
          "data": {
            "text/plain": [
              "[<matplotlib.lines.Line2D at 0x7f58263c3610>]"
            ]
          },
          "metadata": {},
          "execution_count": 13
        },
        {
          "output_type": "display_data",
          "data": {
            "image/png": "[encoded data removed]",
            "text/plain": [
              "<Figure size 432x288 with 1 Axes>"
            ]
          },
          "metadata": {
            "needs_background": "light"
          }
        }
      ]
    },
    {
      "cell_type": "code",
      "source": [
        "scaler = MinMaxScaler(feature_range = (0,1))\n",
        "df_close = scaler.fit_transform(np.array(df_close).reshape(-1,1))\n",
        "\n",
        "#Split the data into train and test split\n",
        "training_size = int(len(df_close) * 0.75)\n",
        "test_size = len(df_close) - training_size\n",
        "train_data, test_data = df_close[0:training_size,:], df_close[training_size:len(df_close),:1]\n",
        "\n",
        "def create_dataset(dataset, time_step = 1):\n",
        "    dataX, dataY = [], []\n",
        "    for i in range(len(dataset) - time_step - 1):\n",
        "        a = dataset[i:(i+time_step), 0]\n",
        "        dataX.append(a)\n",
        "        dataY.append(dataset[i+time_step, 0])\n",
        "    return np.array(dataX), np.array(dataY)\n",
        "\n",
        "time_step = 100\n",
        "x_train, y_train = create_dataset(train_data, time_step)\n",
        "x_test, y_test = create_dataset(test_data, time_step)\n",
        "\n",
        "#Reshape the input to be [samples, time steps, features] which is the requirement of LSTM\n",
        "x_train = x_train.reshape(x_train.shape[0], x_train.shape[1], 1)\n",
        "x_test = x_test.reshape(x_test.shape[0], x_test.shape[1], 1)\n",
        "\n",
        "#Create the LSTM Model\n",
        "model = Sequential()\n",
        "model.add(LSTM(50, return_sequences = True, input_shape = (100,1)))\n",
        "model.add(LSTM(50, return_sequences = True))\n",
        "model.add(LSTM(50))\n",
        "model.add(Dense(1))\n",
        "model.compile(loss = 'mean_squared_error', optimizer = 'adam')\n",
        "\n",
        "model.summary()"
      ],
      "metadata": {
        "colab": {
          "base_uri": "https://localhost:8080/"
        },
        "id": "c8sCJX6J-Afc",
        "outputId": "d71116cf-ac91-4a71-f485-3cea26283bc7"
      },
      "execution_count": 14,
      "outputs": [
        {
          "output_type": "stream",
          "name": "stdout",
          "text": [
            "Model: \"sequential\"\n",
            "_________________________________________________________________\n",
            "Layer (type)                 Output Shape              Param #   \n",
            "=================================================================\n",
            "lstm (LSTM)                  (None, 100, 50)           10400     \n",
            "_________________________________________________________________\n",
            "lstm_1 (LSTM)                (None, 100, 50)           20200     \n",
            "_________________________________________________________________\n",
            "lstm_2 (LSTM)                (None, 50)                20200     \n",
            "_________________________________________________________________\n",
            "dense (Dense)                (None, 1)                 51        \n",
            "=================================================================\n",
            "Total params: 50,851\n",
            "Trainable params: 50,851\n",
            "Non-trainable params: 0\n",
            "_________________________________________________________________\n"
          ]
        }
      ]
    },
    {
      "cell_type": "code",
      "source": [
        "model.fit(x_train, y_train, validation_data = (x_test, y_test), epochs = 100, batch_size = 64, verbose = 1)"
      ],
      "metadata": {
        "colab": {
          "base_uri": "https://localhost:8080/"
        },
        "id": "YoM49h32-GUf",
        "outputId": "dc21c216-a7e9-4466-fcaf-5a5524c7c920"
      },
      "execution_count": 15,
      "outputs": [
        {
          "output_type": "stream",
          "name": "stdout",
          "text": [
            "Epoch 1/100\n",
            "23/23 [==============================] - 21s 417ms/step - loss: 0.0344 - val_loss: 0.0058\n",
            "Epoch 2/100\n",
            "23/23 [==============================] - 9s 379ms/step - loss: 0.0035 - val_loss: 0.0016\n",
            "Epoch 3/100\n",
            "23/23 [==============================] - 9s 383ms/step - loss: 0.0015 - val_loss: 0.0013\n",
            "Epoch 4/100\n",
            "23/23 [==============================] - 9s 390ms/step - loss: 0.0014 - val_loss: 0.0015\n",
            "Epoch 5/100\n",
            "23/23 [==============================] - 9s 387ms/step - loss: 0.0014 - val_loss: 0.0012\n",
            "Epoch 6/100\n",
            "23/23 [==============================] - 9s 380ms/step - loss: 0.0013 - val_loss: 0.0014\n",
            "Epoch 7/100\n",
            "23/23 [==============================] - 10s 420ms/step - loss: 0.0013 - val_loss: 0.0012\n",
            "Epoch 8/100\n",
            "23/23 [==============================] - 9s 380ms/step - loss: 0.0012 - val_loss: 9.8510e-04\n",
            "Epoch 9/100\n",
            "23/23 [==============================] - 9s 379ms/step - loss: 0.0013 - val_loss: 9.9074e-04\n",
            "Epoch 10/100\n",
            "23/23 [==============================] - 10s 449ms/step - loss: 0.0012 - val_loss: 0.0011\n",
            "Epoch 11/100\n",
            "23/23 [==============================] - 9s 388ms/step - loss: 0.0011 - val_loss: 8.8903e-04\n",
            "Epoch 12/100\n",
            "23/23 [==============================] - 9s 381ms/step - loss: 0.0011 - val_loss: 0.0011\n",
            "Epoch 13/100\n",
            "23/23 [==============================] - 9s 381ms/step - loss: 0.0011 - val_loss: 0.0015\n",
            "Epoch 14/100\n",
            "23/23 [==============================] - 9s 378ms/step - loss: 9.8314e-04 - val_loss: 8.0780e-04\n",
            "Epoch 15/100\n",
            "23/23 [==============================] - 9s 376ms/step - loss: 9.4447e-04 - val_loss: 7.3669e-04\n",
            "Epoch 16/100\n",
            "23/23 [==============================] - 9s 379ms/step - loss: 9.7125e-04 - val_loss: 6.5031e-04\n",
            "Epoch 17/100\n",
            "23/23 [==============================] - 9s 383ms/step - loss: 0.0010 - val_loss: 6.9547e-04\n",
            "Epoch 18/100\n",
            "23/23 [==============================] - 9s 381ms/step - loss: 9.1943e-04 - val_loss: 0.0012\n",
            "Epoch 19/100\n",
            "23/23 [==============================] - 9s 393ms/step - loss: 8.2929e-04 - val_loss: 0.0010\n",
            "Epoch 20/100\n",
            "23/23 [==============================] - 9s 384ms/step - loss: 9.3196e-04 - val_loss: 6.1491e-04\n",
            "Epoch 21/100\n",
            "23/23 [==============================] - 9s 396ms/step - loss: 8.7248e-04 - val_loss: 5.9774e-04\n",
            "Epoch 22/100\n",
            "23/23 [==============================] - 9s 379ms/step - loss: 8.2212e-04 - val_loss: 5.5999e-04\n",
            "Epoch 23/100\n",
            "23/23 [==============================] - 9s 382ms/step - loss: 8.1792e-04 - val_loss: 0.0013\n",
            "Epoch 24/100\n",
            "23/23 [==============================] - 9s 383ms/step - loss: 8.5956e-04 - val_loss: 7.3317e-04\n",
            "Epoch 25/100\n",
            "23/23 [==============================] - 9s 381ms/step - loss: 7.0611e-04 - val_loss: 7.0346e-04\n",
            "Epoch 26/100\n",
            "23/23 [==============================] - 9s 382ms/step - loss: 7.5970e-04 - val_loss: 9.0082e-04\n",
            "Epoch 27/100\n",
            "23/23 [==============================] - 9s 383ms/step - loss: 7.6099e-04 - val_loss: 6.5830e-04\n",
            "Epoch 28/100\n",
            "23/23 [==============================] - 9s 379ms/step - loss: 6.7173e-04 - val_loss: 6.7203e-04\n",
            "Epoch 29/100\n",
            "23/23 [==============================] - 9s 378ms/step - loss: 6.9220e-04 - val_loss: 7.3160e-04\n",
            "Epoch 30/100\n",
            "23/23 [==============================] - 9s 393ms/step - loss: 6.3359e-04 - val_loss: 6.3814e-04\n",
            "Epoch 31/100\n",
            "23/23 [==============================] - 9s 389ms/step - loss: 6.3734e-04 - val_loss: 5.0688e-04\n",
            "Epoch 32/100\n",
            "23/23 [==============================] - 9s 386ms/step - loss: 6.4051e-04 - val_loss: 5.7298e-04\n",
            "Epoch 33/100\n",
            "23/23 [==============================] - 9s 377ms/step - loss: 6.0031e-04 - val_loss: 7.5483e-04\n",
            "Epoch 34/100\n",
            "23/23 [==============================] - 9s 384ms/step - loss: 5.8179e-04 - val_loss: 6.1613e-04\n",
            "Epoch 35/100\n",
            "23/23 [==============================] - 9s 381ms/step - loss: 5.8159e-04 - val_loss: 5.9390e-04\n",
            "Epoch 36/100\n",
            "23/23 [==============================] - 9s 379ms/step - loss: 5.6660e-04 - val_loss: 8.1137e-04\n",
            "Epoch 37/100\n",
            "23/23 [==============================] - 9s 380ms/step - loss: 6.1734e-04 - val_loss: 7.1142e-04\n",
            "Epoch 38/100\n",
            "23/23 [==============================] - 9s 382ms/step - loss: 5.5769e-04 - val_loss: 6.3338e-04\n",
            "Epoch 39/100\n",
            "23/23 [==============================] - 9s 388ms/step - loss: 5.7234e-04 - val_loss: 5.9475e-04\n",
            "Epoch 40/100\n",
            "23/23 [==============================] - 9s 384ms/step - loss: 5.4437e-04 - val_loss: 5.0493e-04\n",
            "Epoch 41/100\n",
            "23/23 [==============================] - 9s 376ms/step - loss: 5.0907e-04 - val_loss: 5.4406e-04\n",
            "Epoch 42/100\n",
            "23/23 [==============================] - 9s 380ms/step - loss: 5.9687e-04 - val_loss: 7.0912e-04\n",
            "Epoch 43/100\n",
            "23/23 [==============================] - 9s 377ms/step - loss: 6.6701e-04 - val_loss: 7.1253e-04\n",
            "Epoch 44/100\n",
            "23/23 [==============================] - 9s 384ms/step - loss: 6.4461e-04 - val_loss: 5.4520e-04\n",
            "Epoch 45/100\n",
            "23/23 [==============================] - 9s 380ms/step - loss: 4.9675e-04 - val_loss: 5.7162e-04\n",
            "Epoch 46/100\n",
            "23/23 [==============================] - 9s 383ms/step - loss: 4.9633e-04 - val_loss: 4.8300e-04\n",
            "Epoch 47/100\n",
            "23/23 [==============================] - 9s 384ms/step - loss: 4.8220e-04 - val_loss: 5.1071e-04\n",
            "Epoch 48/100\n",
            "23/23 [==============================] - 9s 381ms/step - loss: 5.7883e-04 - val_loss: 4.6535e-04\n",
            "Epoch 49/100\n",
            "23/23 [==============================] - 9s 382ms/step - loss: 4.7160e-04 - val_loss: 3.8403e-04\n",
            "Epoch 50/100\n",
            "23/23 [==============================] - 9s 380ms/step - loss: 4.5628e-04 - val_loss: 4.7323e-04\n",
            "Epoch 51/100\n",
            "23/23 [==============================] - 9s 380ms/step - loss: 4.4213e-04 - val_loss: 3.6646e-04\n",
            "Epoch 52/100\n",
            "23/23 [==============================] - 9s 385ms/step - loss: 4.0622e-04 - val_loss: 3.6484e-04\n",
            "Epoch 53/100\n",
            "23/23 [==============================] - 9s 379ms/step - loss: 3.9690e-04 - val_loss: 4.9043e-04\n",
            "Epoch 54/100\n",
            "23/23 [==============================] - 9s 384ms/step - loss: 4.4112e-04 - val_loss: 5.5723e-04\n",
            "Epoch 55/100\n",
            "23/23 [==============================] - 9s 384ms/step - loss: 4.0109e-04 - val_loss: 3.9934e-04\n",
            "Epoch 56/100\n",
            "23/23 [==============================] - 9s 376ms/step - loss: 4.1591e-04 - val_loss: 3.1079e-04\n",
            "Epoch 57/100\n",
            "23/23 [==============================] - 9s 404ms/step - loss: 4.2684e-04 - val_loss: 4.1527e-04\n",
            "Epoch 58/100\n",
            "23/23 [==============================] - 9s 396ms/step - loss: 3.5560e-04 - val_loss: 3.0628e-04\n",
            "Epoch 59/100\n",
            "23/23 [==============================] - 9s 385ms/step - loss: 3.5699e-04 - val_loss: 3.4181e-04\n",
            "Epoch 60/100\n",
            "23/23 [==============================] - 9s 378ms/step - loss: 3.7402e-04 - val_loss: 3.2811e-04\n",
            "Epoch 61/100\n",
            "23/23 [==============================] - 9s 385ms/step - loss: 3.5012e-04 - val_loss: 3.7054e-04\n",
            "Epoch 62/100\n",
            "23/23 [==============================] - 9s 380ms/step - loss: 3.2506e-04 - val_loss: 2.8695e-04\n",
            "Epoch 63/100\n",
            "23/23 [==============================] - 9s 390ms/step - loss: 3.4090e-04 - val_loss: 3.2226e-04\n",
            "Epoch 64/100\n",
            "23/23 [==============================] - 9s 379ms/step - loss: 3.2354e-04 - val_loss: 3.7087e-04\n",
            "Epoch 65/100\n",
            "23/23 [==============================] - 9s 377ms/step - loss: 3.1781e-04 - val_loss: 3.2077e-04\n",
            "Epoch 66/100\n",
            "23/23 [==============================] - 9s 378ms/step - loss: 3.3898e-04 - val_loss: 3.0400e-04\n",
            "Epoch 67/100\n",
            "23/23 [==============================] - 9s 376ms/step - loss: 3.4188e-04 - val_loss: 3.7275e-04\n",
            "Epoch 68/100\n",
            "23/23 [==============================] - 9s 383ms/step - loss: 3.5179e-04 - val_loss: 3.4741e-04\n",
            "Epoch 69/100\n",
            "23/23 [==============================] - 9s 389ms/step - loss: 3.0988e-04 - val_loss: 2.4420e-04\n",
            "Epoch 70/100\n",
            "23/23 [==============================] - 9s 382ms/step - loss: 3.4999e-04 - val_loss: 2.2746e-04\n",
            "Epoch 71/100\n",
            "23/23 [==============================] - 9s 383ms/step - loss: 3.2236e-04 - val_loss: 3.4443e-04\n",
            "Epoch 72/100\n",
            "23/23 [==============================] - 9s 381ms/step - loss: 2.9431e-04 - val_loss: 3.7090e-04\n",
            "Epoch 73/100\n",
            "23/23 [==============================] - 9s 389ms/step - loss: 3.0392e-04 - val_loss: 2.9434e-04\n",
            "Epoch 74/100\n",
            "23/23 [==============================] - 9s 380ms/step - loss: 3.0121e-04 - val_loss: 2.2487e-04\n",
            "Epoch 75/100\n",
            "23/23 [==============================] - 9s 389ms/step - loss: 2.7499e-04 - val_loss: 2.8000e-04\n",
            "Epoch 76/100\n",
            "23/23 [==============================] - 9s 384ms/step - loss: 2.5701e-04 - val_loss: 3.2482e-04\n",
            "Epoch 77/100\n",
            "23/23 [==============================] - 9s 380ms/step - loss: 2.5655e-04 - val_loss: 2.9701e-04\n",
            "Epoch 78/100\n",
            "23/23 [==============================] - 9s 381ms/step - loss: 2.6341e-04 - val_loss: 3.0000e-04\n",
            "Epoch 79/100\n",
            "23/23 [==============================] - 9s 382ms/step - loss: 2.6232e-04 - val_loss: 2.5188e-04\n",
            "Epoch 80/100\n",
            "23/23 [==============================] - 9s 383ms/step - loss: 2.8136e-04 - val_loss: 2.0255e-04\n",
            "Epoch 81/100\n",
            "23/23 [==============================] - 9s 384ms/step - loss: 2.5504e-04 - val_loss: 2.5279e-04\n",
            "Epoch 82/100\n",
            "23/23 [==============================] - 9s 387ms/step - loss: 2.4354e-04 - val_loss: 2.1107e-04\n",
            "Epoch 83/100\n",
            "23/23 [==============================] - 9s 379ms/step - loss: 2.3134e-04 - val_loss: 2.5558e-04\n",
            "Epoch 84/100\n",
            "23/23 [==============================] - 9s 384ms/step - loss: 2.7002e-04 - val_loss: 2.2588e-04\n",
            "Epoch 85/100\n",
            "23/23 [==============================] - 9s 379ms/step - loss: 2.5804e-04 - val_loss: 2.0230e-04\n",
            "Epoch 86/100\n",
            "23/23 [==============================] - 9s 379ms/step - loss: 2.4626e-04 - val_loss: 3.0043e-04\n",
            "Epoch 87/100\n",
            "23/23 [==============================] - 9s 379ms/step - loss: 2.4051e-04 - val_loss: 1.8888e-04\n",
            "Epoch 88/100\n",
            "23/23 [==============================] - 9s 376ms/step - loss: 3.0214e-04 - val_loss: 3.2694e-04\n",
            "Epoch 89/100\n",
            "23/23 [==============================] - 9s 385ms/step - loss: 2.4750e-04 - val_loss: 2.4136e-04\n",
            "Epoch 90/100\n",
            "23/23 [==============================] - 9s 376ms/step - loss: 2.3004e-04 - val_loss: 2.0881e-04\n",
            "Epoch 91/100\n",
            "23/23 [==============================] - 9s 379ms/step - loss: 2.7459e-04 - val_loss: 3.0206e-04\n",
            "Epoch 92/100\n",
            "23/23 [==============================] - 9s 383ms/step - loss: 2.6710e-04 - val_loss: 2.2969e-04\n",
            "Epoch 93/100\n",
            "23/23 [==============================] - 9s 386ms/step - loss: 2.2543e-04 - val_loss: 2.8316e-04\n",
            "Epoch 94/100\n",
            "23/23 [==============================] - 9s 375ms/step - loss: 2.3823e-04 - val_loss: 3.1122e-04\n",
            "Epoch 95/100\n",
            "23/23 [==============================] - 9s 380ms/step - loss: 2.8912e-04 - val_loss: 2.7743e-04\n",
            "Epoch 96/100\n",
            "23/23 [==============================] - 9s 381ms/step - loss: 2.3327e-04 - val_loss: 2.2147e-04\n",
            "Epoch 97/100\n",
            "23/23 [==============================] - 9s 383ms/step - loss: 2.2705e-04 - val_loss: 1.6645e-04\n",
            "Epoch 98/100\n",
            "23/23 [==============================] - 9s 383ms/step - loss: 2.3986e-04 - val_loss: 1.8609e-04\n",
            "Epoch 99/100\n",
            "23/23 [==============================] - 9s 384ms/step - loss: 2.1430e-04 - val_loss: 2.2424e-04\n",
            "Epoch 100/100\n",
            "23/23 [==============================] - 9s 378ms/step - loss: 2.1134e-04 - val_loss: 2.2063e-04\n"
          ]
        },
        {
          "output_type": "execute_result",
          "data": {
            "text/plain": [
              "<tensorflow.python.keras.callbacks.History at 0x7f5820bd76d0>"
            ]
          },
          "metadata": {},
          "execution_count": 15
        }
      ]
    },
    {
      "cell_type": "code",
      "source": [
        "#Lets predict and check performance metrics\n",
        "train_predict = model.predict(x_train)\n",
        "test_predict = model.predict(x_test)\n",
        "\n",
        "#Transform back to original form\n",
        "train_predict = scaler.inverse_transform(train_predict)\n",
        "test_predict = scaler.inverse_transform(test_predict)\n",
        "\n",
        "#Calculate RMSE performance metrics\n",
        "math.sqrt(mean_squared_error(y_train, train_predict))"
      ],
      "metadata": {
        "colab": {
          "base_uri": "https://localhost:8080/"
        },
        "id": "UCqsYqexBsPD",
        "outputId": "6a2ec94e-1adc-4e7a-fbe7-5c5170908bc8"
      },
      "execution_count": 16,
      "outputs": [
        {
          "output_type": "execute_result",
          "data": {
            "text/plain": [
              "164.02282540642395"
            ]
          },
          "metadata": {},
          "execution_count": 16
        }
      ]
    },
    {
      "cell_type": "code",
      "source": [
        "#Test Data RMSE\n",
        "math.sqrt(mean_squared_error(y_test, test_predict))"
      ],
      "metadata": {
        "colab": {
          "base_uri": "https://localhost:8080/"
        },
        "id": "a29P-pCOBvTj",
        "outputId": "7363df53-8441-42c7-d668-071ddd3c9196"
      },
      "execution_count": 17,
      "outputs": [
        {
          "output_type": "execute_result",
          "data": {
            "text/plain": [
              "106.18974579972362"
            ]
          },
          "metadata": {},
          "execution_count": 17
        }
      ]
    },
    {
      "cell_type": "code",
      "source": [
        "#Plotting\n",
        "\n",
        "#Shift train prediction for plotting\n",
        "look_back = 100\n",
        "trainPredictPlot = np.empty_like(df_close)\n",
        "trainPredictPlot[:,:] = np.nan\n",
        "trainPredictPlot[look_back:len(train_predict) + look_back, :] = train_predict\n",
        "\n",
        "#Shift test prediction for plotting\n",
        "testPredictPlot = np.empty_like(df_close)\n",
        "testPredictPlot[:,:] = np.nan\n",
        "testPredictPlot[len(train_predict) + (look_back * 2)+1:len(df_close) - 1, :] = test_predict\n",
        "\n",
        "#Plot baseline and predictions\n",
        "plt.plot(scaler.inverse_transform(df_close))\n",
        "plt.plot(trainPredictPlot)\n",
        "plt.plot(testPredictPlot)\n",
        "plt.show()"
      ],
      "metadata": {
        "colab": {
          "base_uri": "https://localhost:8080/",
          "height": 265
        },
        "id": "qhSPivTLBx7S",
        "outputId": "8047fe89-d483-498a-9311-267ced3d0da8"
      },
      "execution_count": 18,
      "outputs": [
        {
          "output_type": "display_data",
          "data": {
            "image/png": "[encoded data removed]",
            "text/plain": [
              "<Figure size 432x288 with 1 Axes>"
            ]
          },
          "metadata": {
            "needs_background": "light"
          }
        }
      ]
    },
    {
      "cell_type": "code",
      "source": [
        "len(test_data), x_test.shape"
      ],
      "metadata": {
        "colab": {
          "base_uri": "https://localhost:8080/"
        },
        "id": "ND-_e__qB0Jc",
        "outputId": "dfcaeb2a-ae4e-4c88-effe-6149e9810d3a"
      },
      "execution_count": 19,
      "outputs": [
        {
          "output_type": "execute_result",
          "data": {
            "text/plain": [
              "(509, (408, 100, 1))"
            ]
          },
          "metadata": {},
          "execution_count": 19
        }
      ]
    },
    {
      "cell_type": "code",
      "source": [
        "x_input = test_data[207:].reshape(1,-1)\n",
        "x_input.shape"
      ],
      "metadata": {
        "colab": {
          "base_uri": "https://localhost:8080/"
        },
        "id": "evFetSwFB2PS",
        "outputId": "e7175451-a6c5-41df-b36f-65e947d75ab9"
      },
      "execution_count": 20,
      "outputs": [
        {
          "output_type": "execute_result",
          "data": {
            "text/plain": [
              "(1, 302)"
            ]
          },
          "metadata": {},
          "execution_count": 20
        }
      ]
    }
  ]
}